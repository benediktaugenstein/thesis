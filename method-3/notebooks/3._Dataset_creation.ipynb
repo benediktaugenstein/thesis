{
 "cells": [
  {
   "cell_type": "markdown",
   "id": "e3c1f8b5",
   "metadata": {},
   "source": [
    "# 3. Dataset creation"
   ]
  },
  {
   "cell_type": "markdown",
   "id": "a6d1f3df",
   "metadata": {},
   "source": [
    "3.1 Preparation <br>\n",
    "3.2 Combination <br>\n",
    "3.3 Saving & Loading <br>"
   ]
  },
  {
   "cell_type": "markdown",
   "id": "edc51e1d",
   "metadata": {},
   "source": [
    "## 3.1 Preparation"
   ]
  },
  {
   "cell_type": "code",
   "execution_count": 53,
   "id": "9d01f1cc",
   "metadata": {},
   "outputs": [],
   "source": [
    "# Import necessary packages\n",
    "\n",
    "import os\n",
    "from tqdm.notebook import tqdm\n",
    "import numpy as np\n",
    "import torch"
   ]
  },
  {
   "cell_type": "code",
   "execution_count": 54,
   "id": "436355cd",
   "metadata": {},
   "outputs": [],
   "source": [
    "# Specify paths to tensors which are to be combined\n",
    "\n",
    "# Note: to create tensors for the different parts of the dataset, 'train', 'dev', and 'test' have to be specified in the \n",
    "# paths below\n",
    "\n",
    "path = 'data/tensors_tdnn/train/'\n",
    "path2 = 'data/tensors_whisper/train/'"
   ]
  },
  {
   "cell_type": "markdown",
   "id": "e49cc759",
   "metadata": {},
   "source": [
    "## 3.2 Combination"
   ]
  },
  {
   "cell_type": "code",
   "execution_count": null,
   "id": "06d41a21",
   "metadata": {},
   "outputs": [
    {
     "data": {
      "application/vnd.jupyter.widget-view+json": {
       "model_id": "7380973331fe4bb88853167e9046a4b8",
       "version_major": 2,
       "version_minor": 0
      },
      "text/plain": [
       "  0%|          | 0/102 [00:00<?, ?it/s]"
      ]
     },
     "metadata": {},
     "output_type": "display_data"
    }
   ],
   "source": [
    "# Combine tensors\n",
    "\n",
    "# to check if first, second or following iteration\n",
    "i = 0\n",
    "\n",
    "# to set index for the 1 for result list\n",
    "x = 0\n",
    "\n",
    "# empty results list\n",
    "y = []\n",
    "\n",
    "for folder in tqdm(os.listdir(path)):\n",
    "    ln_path = path + folder + '/'\n",
    "    \n",
    "    res = [0] * 102\n",
    "    res[x] = 1\n",
    "    \n",
    "    x += 1\n",
    "    \n",
    "    for f in os.listdir(ln_path):\n",
    "        file_path = ln_path + f\n",
    "        file_path2 = path2 + folder + '/' + 'w' + f\n",
    "        tensor = torch.load(file_path)\n",
    "        t = np.array(tensor)[0]\n",
    "        t = np.squeeze(t)\n",
    "        tensor2 = torch.load(file_path2, map_location=torch.device('cpu'))\n",
    "        t2 = np.array(tensor2.cpu())[0][0]\n",
    "\n",
    "        if i == 0:\n",
    "            X = np.array(np.append(t, t2))\n",
    "        elif i == 1:\n",
    "            new = np.append(t, t2)\n",
    "            X = np.stack((X, new), axis=0)\n",
    "        else:\n",
    "            new = np.append(t, t2)\n",
    "            X = np.append(X, [new], axis=0)\n",
    "            \n",
    "        y.append(res)\n",
    "        \n",
    "        i += 1"
   ]
  },
  {
   "cell_type": "code",
   "execution_count": null,
   "id": "cd14956f",
   "metadata": {},
   "outputs": [],
   "source": [
    "# Change results list to numpy array\n",
    "\n",
    "y = np.array(y)"
   ]
  },
  {
   "cell_type": "code",
   "execution_count": null,
   "id": "affb3acb",
   "metadata": {},
   "outputs": [],
   "source": [
    "# Check shapes\n",
    "\n",
    "print(X.shape)\n",
    "print(y.shape)"
   ]
  },
  {
   "cell_type": "markdown",
   "id": "c79f09a3",
   "metadata": {},
   "source": [
    "## 3.3 Saving & Loading"
   ]
  },
  {
   "cell_type": "code",
   "execution_count": null,
   "id": "03355fd4",
   "metadata": {},
   "outputs": [],
   "source": [
    "# Save numpy arrays\n",
    "\n",
    "np.save('X_train_complete.npy', X)\n",
    "np.save('y_train_complete.npy', y)"
   ]
  },
  {
   "cell_type": "code",
   "execution_count": null,
   "id": "4aa8266b",
   "metadata": {},
   "outputs": [],
   "source": [
    "# Load numpy arrays\n",
    "\n",
    "xtest = np.load('X_train_complete.npy')\n",
    "ytest = np.load('y_train_complete.npy')"
   ]
  },
  {
   "cell_type": "code",
   "execution_count": null,
   "id": "72fc9d1c",
   "metadata": {},
   "outputs": [],
   "source": [
    "# Check whether operations were successful\n",
    "\n",
    "print(xtest)\n",
    "print(ytest)"
   ]
  }
 ],
 "metadata": {
  "kernelspec": {
   "display_name": "Python 3 (ipykernel)",
   "language": "python",
   "name": "python3"
  },
  "language_info": {
   "codemirror_mode": {
    "name": "ipython",
    "version": 3
   },
   "file_extension": ".py",
   "mimetype": "text/x-python",
   "name": "python",
   "nbconvert_exporter": "python",
   "pygments_lexer": "ipython3",
   "version": "3.10.9"
  }
 },
 "nbformat": 4,
 "nbformat_minor": 5
}
