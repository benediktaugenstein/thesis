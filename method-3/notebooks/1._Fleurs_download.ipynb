{
 "cells": [
  {
   "cell_type": "markdown",
   "id": "1248dac8",
   "metadata": {},
   "source": [
    "# 1. Fleurs download"
   ]
  },
  {
   "cell_type": "markdown",
   "id": "df9324e5",
   "metadata": {},
   "source": [
    "1.1 Preparation <br>\n",
    "1.2 Download <br>"
   ]
  },
  {
   "cell_type": "markdown",
   "id": "f4610a2f",
   "metadata": {},
   "source": [
    "## 1.1 Preparation"
   ]
  },
  {
   "cell_type": "code",
   "execution_count": null,
   "id": "cec11def",
   "metadata": {},
   "outputs": [],
   "source": [
    "# Import necessary libraries\n",
    "\n",
    "import datasets\n",
    "from datasets import load_dataset\n",
    "from pathlib import Path\n",
    "from tqdm import tqdm"
   ]
  },
  {
   "cell_type": "code",
   "execution_count": null,
   "id": "f1d17773",
   "metadata": {},
   "outputs": [],
   "source": [
    "# Set target path for dataset to be saved in\n",
    "\n",
    "target_path = '/home/baugenstein/data/fleurs/'\n",
    "datasets.config.DOWNLOADED_DATASETS_PATH = Path(target_path)"
   ]
  },
  {
   "cell_type": "markdown",
   "id": "85da632c",
   "metadata": {},
   "source": [
    "## 1.2 Download"
   ]
  },
  {
   "cell_type": "code",
   "execution_count": null,
   "id": "766de40d",
   "metadata": {},
   "outputs": [],
   "source": [
    "# Download all at once\n",
    "# Likely to run out of storage space\n",
    "\n",
    "fleurs = load_dataset(\"google/xtreme_s\", \"fleurs.all\", cache_dir=target_path)"
   ]
  },
  {
   "cell_type": "code",
   "execution_count": null,
   "id": "7aef1a95",
   "metadata": {},
   "outputs": [],
   "source": [
    "# Download single languages \n",
    "# Inbetween downloads everything but the extracted dataset can be deleted to avoid running out of storage space\n",
    "\n",
    "languages = ['af_za', 'am_et', 'ar_eg', 'as_in', 'ast_es', 'az_az', 'be_by',\n",
    "            'bg_bg', 'bn_in', 'bs_ba', 'ca_es', 'ceb_ph', 'ckb_iq', 'cmn_hans_cn',\n",
    "            'cs_cz', 'cy_gb', 'da_dk', 'el_gr', 'es_419', 'et_ee', 'fa_ir',\n",
    "             'ff_sn', 'fi_fi', 'fil_ph', 'ga_ie', 'gl_es', 'gu_in', 'ha_ng',\n",
    "             'he_il', 'hi_in', 'hr_hr', 'hu_hu', 'hy_am', 'id_id', 'ig_ng',\n",
    "            'is_is', 'it_it', 'ja_jp', 'jv_id', 'ka_ge', 'kam_ke'] # 41\n",
    "\n",
    "languages2 = ['kea_cv', 'kk_kz', 'km_kh', 'kn_in', 'ko_kr', 'ky_kg', 'lb_lu',\n",
    "            'lg_ug', 'ln_cd', 'lo_la', 'lt_lt', 'luo_ke', 'lv_lv', 'mi_nz',\n",
    "            'mk_mk', 'ml_in', 'mn_mn', 'mr_in', 'ms_my', 'mt_mt', 'my_mm'] # 21\n",
    "\n",
    "languages3 = ['nb_no', 'ne_np', 'nl_nl', 'nso_za', 'ny_mw', 'oc_fr', 'om_et',\n",
    "             'or_in', 'pa_in', 'pl_pl', 'ps_af', 'pt_br', 'ro_ro', 'ru_ru',\n",
    "            'sd_in', 'sk_sk', 'sl_si', 'sn_zw', 'so_so', 'sr_rs'] # 20\n",
    "\n",
    "languages4 = ['sv_se', 'sw_ke', 'ta_in', 'te_in', 'tg_tj', 'th_th', 'tr_tr'] # 7\n",
    "\n",
    "languages5 = ['uk_ua', 'umb_ao', 'ur_pk', 'uz_uz', 'vi_vn', 'wo_sn', 'xh_za',\n",
    "            'yo_ng', 'yue_hant_hk', 'zu_za'] # 10\n",
    "\n",
    "languages6 = ['de_de', 'fr_fr', 'en_us']\n",
    "\n",
    "languages_new = ['uk_ua', 'umb_ao', 'ur_pk', 'uz_uz', 'vi_vn', 'wo_sn', 'xh_za', 'yo_ng', 'yue_hant_hk', 'zu_za']\n",
    "\n",
    "for ln in tqdm(languages_new):\n",
    "    data = \"fleurs.\" + ln\n",
    "    fleurs = load_dataset(\"google/xtreme_s\", data, cache_dir=target_path)"
   ]
  }
 ],
 "metadata": {
  "kernelspec": {
   "display_name": "Python 3 (ipykernel)",
   "language": "python",
   "name": "python3"
  },
  "language_info": {
   "codemirror_mode": {
    "name": "ipython",
    "version": 3
   },
   "file_extension": ".py",
   "mimetype": "text/x-python",
   "name": "python",
   "nbconvert_exporter": "python",
   "pygments_lexer": "ipython3",
   "version": "3.10.9"
  }
 },
 "nbformat": 4,
 "nbformat_minor": 5
}
