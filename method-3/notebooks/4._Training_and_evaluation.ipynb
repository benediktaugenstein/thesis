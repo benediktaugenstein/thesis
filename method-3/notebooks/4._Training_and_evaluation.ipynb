{
 "cells": [
  {
   "cell_type": "markdown",
   "id": "d79c4a53",
   "metadata": {},
   "source": [
    "# 4. Training and evaluation"
   ]
  },
  {
   "cell_type": "markdown",
   "id": "cac878bf",
   "metadata": {},
   "source": [
    "4.1 Preparation <br>\n",
    "4.2 Data selection (optional) <br>\n",
    "4.3.Training and evaluation of the model <br>\n",
    "4.4 Results <br>"
   ]
  },
  {
   "cell_type": "markdown",
   "id": "4b793df1",
   "metadata": {},
   "source": [
    "## 4.1 Preparation"
   ]
  },
  {
   "cell_type": "code",
   "execution_count": 1,
   "id": "dc09c9b2",
   "metadata": {},
   "outputs": [],
   "source": [
    "# Select which GPU to use\n",
    "\n",
    "import os\n",
    "os.environ[\"CUDA_DEVICE_ORDER\"]=\"PCI_BUS_ID\"\n",
    "os.environ[\"CUDA_VISIBLE_DEVICES\"]=\"0\" # \"0\" -> usage of first GPU, \"1\" -> usage of second GPU"
   ]
  },
  {
   "cell_type": "code",
   "execution_count": 250,
   "id": "2b18d749",
   "metadata": {},
   "outputs": [],
   "source": [
    "# Import data\n",
    "\n",
    "import numpy as np\n",
    "X_train = np.load('numpy_arrays/combination/X_train.npy')\n",
    "y_train = np.load('numpy_arrays/combination/y_train.npy')\n",
    "X_dev = np.load('numpy_arrays/combination/X_dev.npy')\n",
    "y_dev = np.load('numpy_arrays/combination/y_dev.npy')\n",
    "X_test = np.load('numpy_arrays/combination/X_test.npy')\n",
    "y_test = np.load('numpy_arrays/combination/y_test.npy')"
   ]
  },
  {
   "cell_type": "markdown",
   "id": "1e40557f",
   "metadata": {},
   "source": [
    "## 4.2 Data selection (optional)"
   ]
  },
  {
   "cell_type": "code",
   "execution_count": 231,
   "id": "07e95a6c",
   "metadata": {},
   "outputs": [],
   "source": [
    "# Select whether to use tdnn or whisper embeddings for training, skip to use the combined embeddings\n",
    "\n",
    "datasets = [X_train, X_dev, X_test]\n",
    "\n",
    "for n, ds in enumerate(datasets):\n",
    "    new = []\n",
    "    \n",
    "    for i in range(len(ds)):\n",
    "        new.append(ds[i][512:]) # tdnn -> [0:512]; whisper -> [512:]\n",
    "        \n",
    "    new = np.array(new)\n",
    "    datasets[n] = new\n",
    "    \n",
    "X_train = datasets[0]\n",
    "X_dev = datasets[1]\n",
    "X_test = datasets[2]"
   ]
  },
  {
   "cell_type": "markdown",
   "id": "17330b92",
   "metadata": {},
   "source": [
    "## 4.3 Training and evaluation of the model"
   ]
  },
  {
   "cell_type": "code",
   "execution_count": 252,
   "id": "98ee75ae",
   "metadata": {},
   "outputs": [
    {
     "name": "stdout",
     "output_type": "stream",
     "text": [
      "(1792,)\n",
      "Model: \"sequential_25\"\n",
      "_________________________________________________________________\n",
      "Layer (type)                 Output Shape              Param #   \n",
      "=================================================================\n",
      "dropout_31 (Dropout)         (None, 1792)              0         \n",
      "_________________________________________________________________\n",
      "dense_9 (Dense)              (None, 1000)              1793000   \n",
      "_________________________________________________________________\n",
      "dropout_32 (Dropout)         (None, 1000)              0         \n",
      "_________________________________________________________________\n",
      "output (Dense)               (None, 102)               102102    \n",
      "=================================================================\n",
      "Total params: 1,895,102\n",
      "Trainable params: 1,895,102\n",
      "Non-trainable params: 0\n",
      "_________________________________________________________________\n"
     ]
    }
   ],
   "source": [
    "# Create the model\n",
    "\n",
    "import tensorflow\n",
    "from tensorflow.keras import layers, models\n",
    "\n",
    "input_shape = X_train.shape[1:2]\n",
    "print(input_shape)\n",
    "model = models.Sequential([\n",
    "    layers.Input(shape=input_shape),\n",
    "    #layers.Reshape((1792, 1), input_shape=(1792,)), # for convolution\n",
    "    layers.Dropout(0.4),\n",
    "    layers.Dense(1000, activation='relu'),\n",
    "    layers.Dropout(0.4),\n",
    "    layers.Dense(102, name=\"output\", activation='relu'),\n",
    "])\n",
    "\n",
    "model.summary()"
   ]
  },
  {
   "cell_type": "code",
   "execution_count": 253,
   "id": "df68ebbd",
   "metadata": {},
   "outputs": [],
   "source": [
    "# Compile the model\n",
    "\n",
    "import tensorflow as tf\n",
    "model.compile(\n",
    "    optimizer=tf.keras.optimizers.Adam(), # lr ändern, andere optimizer\n",
    "    loss='categorical_crossentropy', #tf.keras.losses.SparseCategoricalCrossentropy(from_logits=True), #\n",
    "    metrics=['accuracy'],\n",
    ")\n"
   ]
  },
  {
   "cell_type": "code",
   "execution_count": 256,
   "id": "188a8280",
   "metadata": {},
   "outputs": [
    {
     "name": "stdout",
     "output_type": "stream",
     "text": [
      "Epoch 1/20\n",
      "25/25 [==============================] - 1s 26ms/step - loss: 0.5996 - accuracy: 0.8428 - val_loss: 0.5782 - val_accuracy: 0.8482\n",
      "Epoch 2/20\n",
      "25/25 [==============================] - 1s 23ms/step - loss: 0.5455 - accuracy: 0.8672 - val_loss: 0.5564 - val_accuracy: 0.8620\n",
      "Epoch 3/20\n",
      "25/25 [==============================] - 1s 23ms/step - loss: 0.5785 - accuracy: 0.8556 - val_loss: 0.8902 - val_accuracy: 0.7409\n",
      "Epoch 4/20\n",
      "25/25 [==============================] - 1s 22ms/step - loss: 0.6581 - accuracy: 0.8339 - val_loss: 0.5578 - val_accuracy: 0.8651\n",
      "Epoch 5/20\n",
      "25/25 [==============================] - 1s 21ms/step - loss: 0.5841 - accuracy: 0.8606 - val_loss: 0.6189 - val_accuracy: 0.8455\n",
      "Epoch 6/20\n",
      "25/25 [==============================] - 1s 22ms/step - loss: 0.5164 - accuracy: 0.8770 - val_loss: 0.5700 - val_accuracy: 0.8804\n",
      "Epoch 7/20\n",
      "25/25 [==============================] - 1s 25ms/step - loss: 0.4926 - accuracy: 0.8701 - val_loss: 0.5254 - val_accuracy: 0.8800\n",
      "Epoch 8/20\n",
      "25/25 [==============================] - 1s 22ms/step - loss: 0.4670 - accuracy: 0.8814 - val_loss: 0.5707 - val_accuracy: 0.8868\n",
      "Epoch 9/20\n",
      "25/25 [==============================] - 1s 21ms/step - loss: 0.4387 - accuracy: 0.8819 - val_loss: 0.5259 - val_accuracy: 0.8739\n",
      "Epoch 10/20\n",
      "25/25 [==============================] - 1s 22ms/step - loss: 0.4186 - accuracy: 0.8936 - val_loss: 0.5373 - val_accuracy: 0.8824\n",
      "Epoch 11/20\n",
      "25/25 [==============================] - 1s 24ms/step - loss: 0.3780 - accuracy: 0.9055 - val_loss: 0.4867 - val_accuracy: 0.8940\n",
      "Epoch 12/20\n",
      "25/25 [==============================] - 1s 24ms/step - loss: 0.4209 - accuracy: 0.8975 - val_loss: 0.6366 - val_accuracy: 0.8395\n",
      "Epoch 13/20\n",
      "25/25 [==============================] - 1s 22ms/step - loss: 0.4145 - accuracy: 0.8843 - val_loss: 0.5609 - val_accuracy: 0.8899\n",
      "Epoch 14/20\n",
      "25/25 [==============================] - 1s 23ms/step - loss: 0.4990 - accuracy: 0.8600 - val_loss: 0.7975 - val_accuracy: 0.7304\n",
      "Epoch 15/20\n",
      "25/25 [==============================] - ETA: 0s - loss: 1.1809 - accuracy: 0.6743Restoring model weights from the end of the best epoch.\n",
      "25/25 [==============================] - 1s 22ms/step - loss: 1.1809 - accuracy: 0.6743 - val_loss: 0.8762 - val_accuracy: 0.7725\n",
      "Epoch 00015: early stopping\n"
     ]
    }
   ],
   "source": [
    "# Train the model\n",
    "\n",
    "history = model.fit(\n",
    "    X_train,\n",
    "    y_train,\n",
    "    #validation_split=0.3,\n",
    "    validation_data=(X_dev, y_dev),\n",
    "    epochs=20,\n",
    "    batch_size=4096, # 2048, 4096, 8192, 16384, 32768\n",
    "    callbacks=tf.keras.callbacks.EarlyStopping(verbose=1, patience=4, monitor='val_accuracy', restore_best_weights=True),\n",
    "    shuffle=True,\n",
    ")"
   ]
  },
  {
   "cell_type": "code",
   "execution_count": null,
   "id": "e79dc207",
   "metadata": {},
   "outputs": [],
   "source": [
    "# Evaluate the model\n",
    "\n",
    "model.evaluate(X_test, y_test)"
   ]
  },
  {
   "cell_type": "markdown",
   "id": "a80cd5be",
   "metadata": {},
   "source": [
    "## 4.4 Results"
   ]
  },
  {
   "cell_type": "markdown",
   "id": "b7763907",
   "metadata": {},
   "source": [
    "### Best results"
   ]
  },
  {
   "cell_type": "code",
   "execution_count": null,
   "id": "198d69d2",
   "metadata": {},
   "outputs": [],
   "source": [
    "# training with tdnn, whisper and combined empeddings\n",
    "# tdnn ca 76-77%; whisper 87.53%; combination 90.01%"
   ]
  },
  {
   "cell_type": "markdown",
   "id": "8df2f216",
   "metadata": {},
   "source": [
    "### Other results"
   ]
  },
  {
   "cell_type": "code",
   "execution_count": null,
   "id": "726867d5",
   "metadata": {},
   "outputs": [],
   "source": [
    "# 0.3; loss: 0.5441 - accuracy: 0.8782 - val_loss: 0.8528 - val_accuracy: 0.7716"
   ]
  },
  {
   "cell_type": "code",
   "execution_count": 42,
   "id": "7d393a31",
   "metadata": {},
   "outputs": [
    {
     "name": "stdout",
     "output_type": "stream",
     "text": [
      "2432/2432 [==============================] - 5s 2ms/step - loss: 0.8030 - accuracy: 0.7870\n"
     ]
    },
    {
     "data": {
      "text/plain": [
       "[0.8029866218566895, 0.7869811058044434]"
      ]
     },
     "execution_count": 42,
     "metadata": {},
     "output_type": "execute_result"
    }
   ],
   "source": [
    "model_current = model\n",
    "model_current.evaluate(X_test, y_test)"
   ]
  },
  {
   "cell_type": "code",
   "execution_count": null,
   "id": "c7805b4d",
   "metadata": {},
   "outputs": [],
   "source": [
    "# 0.3; batch_size=8192; loss: 0.6918 - accuracy: 0.8746 - val_loss: 1.0480 - val_accuracy: 0.7869"
   ]
  },
  {
   "cell_type": "code",
   "execution_count": 47,
   "id": "5ea367e2",
   "metadata": {},
   "outputs": [
    {
     "name": "stdout",
     "output_type": "stream",
     "text": [
      "2432/2432 [==============================] - 5s 2ms/step - loss: 0.9772 - accuracy: 0.8005\n"
     ]
    },
    {
     "data": {
      "text/plain": [
       "[0.9772291779518127, 0.8004883527755737]"
      ]
     },
     "execution_count": 47,
     "metadata": {},
     "output_type": "execute_result"
    }
   ],
   "source": [
    "model_current2 = model\n",
    "model_current2.evaluate(X_test, y_test)"
   ]
  },
  {
   "cell_type": "code",
   "execution_count": null,
   "id": "dcc1f6c9",
   "metadata": {},
   "outputs": [],
   "source": [
    "# 0.3; batch_size=8192; loss: 0.6118 - accuracy: 0.8917 - val_loss: 0.9530 - val_accuracy: 0.7926"
   ]
  },
  {
   "cell_type": "code",
   "execution_count": 50,
   "id": "b77e06f9",
   "metadata": {},
   "outputs": [
    {
     "name": "stdout",
     "output_type": "stream",
     "text": [
      "2432/2432 [==============================] - 5s 2ms/step - loss: 0.8938 - accuracy: 0.8069\n"
     ]
    },
    {
     "data": {
      "text/plain": [
       "[0.8937516212463379, 0.8069271445274353]"
      ]
     },
     "execution_count": 50,
     "metadata": {},
     "output_type": "execute_result"
    }
   ],
   "source": [
    "model_current3 = model\n",
    "model_current3.evaluate(X_test, y_test)"
   ]
  },
  {
   "cell_type": "code",
   "execution_count": 59,
   "id": "bdfa3e02",
   "metadata": {},
   "outputs": [],
   "source": [
    "# 0.3; batch_size=32768; loss: 0.5478 - accuracy: 0.8710 - val_loss: 0.7211 - val_accuracy: 0.8256"
   ]
  },
  {
   "cell_type": "code",
   "execution_count": 60,
   "id": "a539bc99",
   "metadata": {},
   "outputs": [
    {
     "name": "stdout",
     "output_type": "stream",
     "text": [
      "2432/2432 [==============================] - 5s 2ms/step - loss: 0.6521 - accuracy: 0.8331\n"
     ]
    },
    {
     "data": {
      "text/plain": [
       "[0.6521162986755371, 0.8330934047698975]"
      ]
     },
     "execution_count": 60,
     "metadata": {},
     "output_type": "execute_result"
    }
   ],
   "source": [
    "model_current4 = model\n",
    "model_current4.evaluate(X_test, y_test)"
   ]
  },
  {
   "cell_type": "code",
   "execution_count": 70,
   "id": "acd0b13f",
   "metadata": {},
   "outputs": [],
   "source": [
    "# 0.4; batch_size=16384; loss: 0.6065 - accuracy: 0.8722 - val_loss: 0.7078 - val_accuracy: 0.8283"
   ]
  },
  {
   "cell_type": "code",
   "execution_count": 71,
   "id": "d5b17671",
   "metadata": {},
   "outputs": [
    {
     "name": "stdout",
     "output_type": "stream",
     "text": [
      "2432/2432 [==============================] - 5s 2ms/step - loss: 0.6582 - accuracy: 0.8401\n"
     ]
    },
    {
     "data": {
      "text/plain": [
       "[0.6582101583480835, 0.8400591015815735]"
      ]
     },
     "execution_count": 71,
     "metadata": {},
     "output_type": "execute_result"
    }
   ],
   "source": [
    "model_current5 = model\n",
    "model_current5.evaluate(X_test, y_test)"
   ]
  },
  {
   "cell_type": "code",
   "execution_count": 78,
   "id": "d3eb21f2",
   "metadata": {},
   "outputs": [],
   "source": [
    "# dropout=0.4; batch_size=4096; loss: 0.6669 - accuracy: 0.9093 - val_loss: 0.9642 - val_accuracy: 0.8384"
   ]
  },
  {
   "cell_type": "code",
   "execution_count": 146,
   "id": "a5b7e776",
   "metadata": {},
   "outputs": [
    {
     "name": "stdout",
     "output_type": "stream",
     "text": [
      "2432/2432 [==============================] - 5s 2ms/step - loss: 0.8456 - accuracy: 0.8539\n"
     ]
    },
    {
     "data": {
      "text/plain": [
       "[0.8455692529678345, 0.8539133667945862]"
      ]
     },
     "execution_count": 146,
     "metadata": {},
     "output_type": "execute_result"
    }
   ],
   "source": [
    "model_current6 = model\n",
    "model_current6.evaluate(X_test, y_test)"
   ]
  }
 ],
 "metadata": {
  "kernelspec": {
   "display_name": "Python 3 (ipykernel)",
   "language": "python",
   "name": "python3"
  },
  "language_info": {
   "codemirror_mode": {
    "name": "ipython",
    "version": 3
   },
   "file_extension": ".py",
   "mimetype": "text/x-python",
   "name": "python",
   "nbconvert_exporter": "python",
   "pygments_lexer": "ipython3",
   "version": "3.10.9"
  }
 },
 "nbformat": 4,
 "nbformat_minor": 5
}
